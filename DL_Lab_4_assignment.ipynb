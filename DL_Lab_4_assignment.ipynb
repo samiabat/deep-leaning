{
  "cells": [
    {
      "cell_type": "code",
      "execution_count": 1,
      "metadata": {
        "id": "blA5esJtdFVP"
      },
      "outputs": [],
      "source": [
        "import torch"
      ]
    },
    {
      "cell_type": "markdown",
      "metadata": {
        "id": "rurwL-W2PoIN"
      },
      "source": [
        "## Creating Layers"
      ]
    },
    {
      "cell_type": "code",
      "execution_count": 2,
      "metadata": {
        "id": "owY9mN1oPAal"
      },
      "outputs": [],
      "source": [
        "class DenseLayer:\n",
        "  # Layer initialization\n",
        "  def __init__(self, n_inputs, n_neurons):\n",
        "    # Initialize weights and biases\n",
        "    self.weights = 0.01 * torch.rand(n_inputs, n_neurons)\n",
        "    self.biases = torch.zeros((1, n_neurons))\n",
        "\n",
        "  # Forward pass\n",
        "  def forward(self, inputs):\n",
        "    # Calculate output values from inputs, weights and biases\n",
        "    self.output = torch.matmul(inputs, self.weights) + self.biases"
      ]
    },
    {
      "cell_type": "markdown",
      "metadata": {
        "id": "Ajjr0QcUP8tA"
      },
      "source": [
        "## Activation Functions"
      ]
    },
    {
      "cell_type": "code",
      "execution_count": 3,
      "metadata": {
        "id": "6owCQofBP_iL"
      },
      "outputs": [],
      "source": [
        "class Activation_ReLU:\n",
        "  # Forward pass\n",
        "  def forward(self, inputs):\n",
        "    self.output = torch.max(torch.tensor(0),inputs)\n",
        "class Activation_Sigmoid:\n",
        "  # Forward pass\n",
        "  def forward(self, inputs):\n",
        "    self.output = 1 / (1 + torch.exp(inputs*-1))\n",
        "class Activation_Softmax:\n",
        "  # Forward pass\n",
        "  def forward(self, inputs):\n",
        "    # Get unnormalized probabilities\n",
        "    exp_values = torch.exp(inputs - torch.max(inputs, axis=1, keepdim=True).values)\n",
        "    # Normalize them for each sample\n",
        "    probabilities = exp_values / torch.sum(exp_values, axis=1, keepdim=True)\n",
        "    self.output = probabilities\n",
        "class Activation_Linear:\n",
        "    def forward(self, inputs):\n",
        "        self.output = inputs"
      ]
    },
    {
      "cell_type": "markdown",
      "metadata": {
        "id": "x7usBC_5fprz"
      },
      "source": [
        "## Loss and accuracy"
      ]
    },
    {
      "cell_type": "code",
      "execution_count": 4,
      "metadata": {
        "id": "-xWPtRUefp3j"
      },
      "outputs": [],
      "source": [
        "class Accuracy():\n",
        "  def calculate(self, y_pred, y_true):\n",
        "    predictions = torch.argmax(y_pred, axis=1)\n",
        "    if len(y_true.shape) == 2:\n",
        "      y_true = torch.argmax(y_true, axis=1)\n",
        "    accuracy = torch.mean((predictions == y_true).float())\n",
        "    return accuracy\n",
        "def MSE(y_true, y_pred):\n",
        "  return torch.mean(0.5*(y_true - y_pred)**2)"
      ]
    },
    {
      "cell_type": "code",
      "source": [
        "X = torch.tensor([0.1, 0.5])\n",
        "y = torch.tensor([0.05,0.95])"
      ],
      "metadata": {
        "id": "7FZ7Pk0gIK8v"
      },
      "execution_count": 5,
      "outputs": []
    },
    {
      "cell_type": "code",
      "source": [
        "hidden_layer_1 = DenseLayer(2, 4)\n",
        "activation1 = Activation_Sigmoid()\n",
        "output_layer = DenseLayer(4, 2)\n",
        "activation2 = Activation_Linear()"
      ],
      "metadata": {
        "id": "Cb5W0woZRU9_"
      },
      "execution_count": 6,
      "outputs": []
    },
    {
      "cell_type": "code",
      "source": [
        "def forward_pass(X):\n",
        "  hidden_layer_1.forward(X)\n",
        "  activation1.forward(hidden_layer_1.output)\n",
        "  output_layer.forward(activation1.output)\n",
        "  activation2.forward(output_layer.output)\n",
        "  return activation2.output"
      ],
      "metadata": {
        "id": "WAoeJRRJRArn"
      },
      "execution_count": 7,
      "outputs": []
    },
    {
      "cell_type": "code",
      "source": [
        "def back_prop(fp):\n",
        "    lr = torch.tensor(0.01)\n",
        "    gradients_output = fp - y\n",
        "    output_layer.weights -= lr * torch.matmul(activation1.output.T, gradients_output)\n",
        "    output_layer.biases -= lr * gradients_output.sum(dim=0, keepdim=True)\n",
        "    gradients_hidden = torch.matmul(gradients_output, output_layer.weights.T) * activation1.output * (1 - activation1.output)\n",
        "    hidden_layer_1.weights -= lr * torch.matmul(X.reshape(-1, 1), gradients_hidden)\n",
        "    hidden_layer_1.biases -= lr * gradients_hidden.sum(dim=0, keepdim=True)\n"
      ],
      "metadata": {
        "id": "cJePM510S1HH"
      },
      "execution_count": 8,
      "outputs": []
    },
    {
      "cell_type": "code",
      "source": [
        "loss = 0.0001\n",
        "y_pred = forward_pass(X)\n",
        "err = MSE(y, y_pred)\n",
        "print(\"Initial loss:\", err)\n",
        "print(\"Initial prediction:\",y_pred)\n",
        "epoch = 1000\n",
        "for i in range(epoch):\n",
        "  back_prop(y_pred)\n",
        "  y_pred = forward_pass(X)\n",
        "  err = MSE(y, y_pred)\n",
        "  epoch += 1\n",
        "  if i%100 == 0:\n",
        "    # let me check the loss the prediction in every 100 iterations\n",
        "    print(\"-----------------------------------------\")\n",
        "    print(\"Current loss:\", err)\n",
        "    print(\"Current prediction:\",y_pred)\n",
        "    print(\"Target value:\",y)"
      ],
      "metadata": {
        "id": "taOHtItDTR28",
        "colab": {
          "base_uri": "https://localhost:8080/"
        },
        "outputId": "d51396bd-73af-4ce6-aa75-02b4777bc694"
      },
      "execution_count": 9,
      "outputs": [
        {
          "output_type": "stream",
          "name": "stdout",
          "text": [
            "Initial loss: tensor(0.2208)\n",
            "Initial prediction: tensor([[0.0147, 0.0110]])\n",
            "-----------------------------------------\n",
            "Current loss: tensor(0.2120)\n",
            "Current prediction: tensor([[0.0154, 0.0298]])\n",
            "Target value: tensor([0.0500, 0.9500])\n",
            "-----------------------------------------\n",
            "Current loss: tensor(0.0036)\n",
            "Current prediction: tensor([[0.0455, 0.8302]])\n",
            "Target value: tensor([0.0500, 0.9500])\n",
            "-----------------------------------------\n",
            "Current loss: tensor(5.8740e-05)\n",
            "Current prediction: tensor([[0.0494, 0.9347]])\n",
            "Target value: tensor([0.0500, 0.9500])\n",
            "-----------------------------------------\n",
            "Current loss: tensor(9.5370e-07)\n",
            "Current prediction: tensor([[0.0499, 0.9480]])\n",
            "Target value: tensor([0.0500, 0.9500])\n",
            "-----------------------------------------\n",
            "Current loss: tensor(1.5471e-08)\n",
            "Current prediction: tensor([[0.0500, 0.9498]])\n",
            "Target value: tensor([0.0500, 0.9500])\n",
            "-----------------------------------------\n",
            "Current loss: tensor(2.5074e-10)\n",
            "Current prediction: tensor([[0.0500, 0.9500]])\n",
            "Target value: tensor([0.0500, 0.9500])\n",
            "-----------------------------------------\n",
            "Current loss: tensor(4.2334e-12)\n",
            "Current prediction: tensor([[0.0500, 0.9500]])\n",
            "Target value: tensor([0.0500, 0.9500])\n",
            "-----------------------------------------\n",
            "Current loss: tensor(5.1359e-13)\n",
            "Current prediction: tensor([[0.0500, 0.9500]])\n",
            "Target value: tensor([0.0500, 0.9500])\n",
            "-----------------------------------------\n",
            "Current loss: tensor(4.7168e-13)\n",
            "Current prediction: tensor([[0.0500, 0.9500]])\n",
            "Target value: tensor([0.0500, 0.9500])\n",
            "-----------------------------------------\n",
            "Current loss: tensor(4.7168e-13)\n",
            "Current prediction: tensor([[0.0500, 0.9500]])\n",
            "Target value: tensor([0.0500, 0.9500])\n"
          ]
        }
      ]
    },
    {
      "cell_type": "code",
      "source": [
        "acc = Accuracy()\n",
        "accuracy = acc.calculate(y_pred, y.unsqueeze(0))\n",
        "print(\"The accuracy is:\", accuracy)"
      ],
      "metadata": {
        "id": "chb9Oj0cCU2H",
        "colab": {
          "base_uri": "https://localhost:8080/"
        },
        "outputId": "fe11980c-e72e-4cdb-ece2-a916a2aef8ab"
      },
      "execution_count": 10,
      "outputs": [
        {
          "output_type": "stream",
          "name": "stdout",
          "text": [
            "The accuracy is: tensor(1.)\n"
          ]
        }
      ]
    },
    {
      "cell_type": "code",
      "source": [],
      "metadata": {
        "id": "l2ZDsFbGKhTV"
      },
      "execution_count": null,
      "outputs": []
    }
  ],
  "metadata": {
    "colab": {
      "provenance": []
    },
    "kernelspec": {
      "display_name": "Python 3",
      "name": "python3"
    },
    "language_info": {
      "name": "python"
    }
  },
  "nbformat": 4,
  "nbformat_minor": 0
}