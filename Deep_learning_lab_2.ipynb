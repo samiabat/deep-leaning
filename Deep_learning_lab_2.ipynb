{
  "nbformat": 4,
  "nbformat_minor": 0,
  "metadata": {
    "colab": {
      "provenance": []
    },
    "kernelspec": {
      "name": "python3",
      "display_name": "Python 3"
    },
    "language_info": {
      "name": "python"
    }
  },
  "cells": [
    {
      "cell_type": "code",
      "source": [
        "import torch"
      ],
      "metadata": {
        "id": "RYKbbWwy2tUi"
      },
      "execution_count": 78,
      "outputs": []
    },
    {
      "cell_type": "code",
      "source": [
        "class DenseLayer:\n",
        "  def __init__(self, n_inputs, n_neurons):\n",
        "    self.weight = 0.01 * torch.rand(n_inputs, n_neurons)\n",
        "    self.bias = torch.zeros(n_neurons)\n",
        "\n",
        "  def forward(self, inputs):\n",
        "    self.output = inputs @ self.weight + self.bias"
      ],
      "metadata": {
        "id": "HmXcyKYOoEHm"
      },
      "execution_count": 72,
      "outputs": []
    },
    {
      "cell_type": "code",
      "source": [
        "# 5 input, 3hidden layer 5 output\n",
        "layer1 = DenseLayer(5, 16)\n",
        "layer2 = DenseLayer(16, 16)\n",
        "layer3 = DenseLayer(16, 16)\n",
        "layer4 = DenseLayer(16, 5)"
      ],
      "metadata": {
        "id": "n3ioqmDspxhM"
      },
      "execution_count": 73,
      "outputs": []
    },
    {
      "cell_type": "code",
      "source": [
        "current_input = torch.rand(16, 5)\n",
        "layer1.forward(current_input)\n",
        "layer2.forward(layer1.output)\n",
        "layer3.forward(layer2.output)\n",
        "layer4.forward(layer3.output)\n",
        "layer4.output, layer4.output.shape"
      ],
      "metadata": {
        "colab": {
          "base_uri": "https://localhost:8080/"
        },
        "id": "Y_lW7Iyyvtpi",
        "outputId": "93c86007-b8d1-4d66-b34f-9b09e0cd3530"
      },
      "execution_count": 77,
      "outputs": [
        {
          "output_type": "execute_result",
          "data": {
            "text/plain": [
              "(tensor([[6.5985e-06, 6.5756e-06, 6.5437e-06, 9.1878e-06, 7.0593e-06],\n",
              "         [6.7131e-06, 6.6891e-06, 6.6604e-06, 9.3445e-06, 7.1796e-06],\n",
              "         [3.0594e-06, 3.0480e-06, 3.0379e-06, 4.2548e-06, 3.2707e-06],\n",
              "         [6.7590e-06, 6.7368e-06, 6.7057e-06, 9.4105e-06, 7.2311e-06],\n",
              "         [5.0287e-06, 5.0079e-06, 4.9896e-06, 6.9990e-06, 5.3749e-06],\n",
              "         [4.3720e-06, 4.3526e-06, 4.3353e-06, 6.0885e-06, 4.6731e-06],\n",
              "         [4.6497e-06, 4.6324e-06, 4.6142e-06, 6.4702e-06, 4.9734e-06],\n",
              "         [2.5819e-06, 2.5700e-06, 2.5600e-06, 3.5926e-06, 2.7592e-06],\n",
              "         [4.2833e-06, 4.2670e-06, 4.2486e-06, 5.9605e-06, 4.5822e-06],\n",
              "         [7.0653e-06, 7.0413e-06, 7.0097e-06, 9.8361e-06, 7.5588e-06],\n",
              "         [5.4975e-06, 5.4766e-06, 5.4538e-06, 7.6538e-06, 5.8799e-06],\n",
              "         [6.0039e-06, 5.9833e-06, 5.9558e-06, 8.3589e-06, 6.4216e-06],\n",
              "         [8.5514e-06, 8.5209e-06, 8.4834e-06, 1.1906e-05, 9.1464e-06],\n",
              "         [4.9168e-06, 4.9024e-06, 4.8780e-06, 6.8471e-06, 5.2624e-06],\n",
              "         [7.8886e-06, 7.8607e-06, 7.8261e-06, 1.0983e-05, 8.4381e-06],\n",
              "         [8.8142e-06, 8.7794e-06, 8.7408e-06, 1.2271e-05, 9.4254e-06]]),\n",
              " torch.Size([16, 5]))"
            ]
          },
          "metadata": {},
          "execution_count": 77
        }
      ]
    },
    {
      "cell_type": "code",
      "source": [],
      "metadata": {
        "id": "3lBeXb1Hw4D8"
      },
      "execution_count": null,
      "outputs": []
    }
  ]
}